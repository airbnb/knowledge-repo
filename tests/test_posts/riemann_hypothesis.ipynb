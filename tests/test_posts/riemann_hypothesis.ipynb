{
 "cells": [
  {
   "cell_type": "raw",
   "metadata": {},
   "source": [
    "---\n",
    "title: \"Riemann Hypothesis: It's naught but trivial.\"\n",
    "authors:\n",
    " - resident_genius\n",
    "created_at: 2017-02-05 00:00:00\n",
    "updated_at: 2017-02-10 00:00:00\n",
    "tags:\n",
    " - proofs\n",
    " - trivial\n",
    "tldr: |\n",
    "    The trivial zeros of the Zeta function are the only zeros. It's trivial. QED.\n",
    "---"
   ]
  },
  {
   "cell_type": "markdown",
   "metadata": {},
   "source": [
    "It has long been believed that the Riemann hypothesis is probably true, but here we assert that it is trivial.\n",
    "\n",
    "Here is another trivially correct \"hypothesis\":\n",
    "\n",
    "$ sin(x) = 1 $ only when $x = \\frac{\\pi}{2}\\mod2\\pi$."
   ]
  },
  {
   "cell_type": "code",
   "execution_count": 2,
   "metadata": {},
   "outputs": [
    {
     "data": {
      "text/plain": [
       "True"
      ]
     },
     "execution_count": 2,
     "metadata": {},
     "output_type": "execute_result"
    }
   ],
   "source": [
    "# The following code proves the Riemann hypothesis\n",
    "\n",
    "class RiemannHypothesis(object):\n",
    "    \n",
    "    is_proven = True\n",
    "\n",
    "riemann_hypothesis = RiemannHypothesis()\n",
    "riemann_hypothesis.is_proven"
   ]
  }
 ],
 "metadata": {
  "kernelspec": {
   "display_name": "Python 3",
   "language": "python",
   "name": "python3"
  },
  "language_info": {
   "codemirror_mode": {
    "name": "ipython",
    "version": 3
   },
   "file_extension": ".py",
   "mimetype": "text/x-python",
   "name": "python",
   "nbconvert_exporter": "python",
   "pygments_lexer": "ipython3",
   "version": "3.6.1"
  }
 },
 "nbformat": 4,
 "nbformat_minor": 2
}
