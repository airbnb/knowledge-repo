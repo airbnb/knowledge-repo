{
 "cells": [
  {
   "cell_type": "raw",
   "metadata": {},
   "source": [
    "---\n",
    "title: \"Principles of Addition and the 'Missing Children' paradox.\"\n",
    "authors:\n",
    " - resident_father\n",
    "created_at: 2017-03-22 00:00:00\n",
    "updated_at: 2017-03-23 00:00:00\n",
    "tags:\n",
    " - family\n",
    " - children\n",
    " - wheredidyougo\n",
    "tldr: |\n",
    "    It has long been understood that the result of counting objects is order-sensitive. In this post we prove and demonstrate for the first time in human history that counting objects is actually associative and commutative, putting to rest the long-standing \"missing children\" paradox.\n",
    "---"
   ]
  },
  {
   "cell_type": "markdown",
   "metadata": {},
   "source": [
    "This post is actually just a filler for the test repository."
   ]
  }
 ],
 "metadata": {
  "kernelspec": {
   "display_name": "Python 3",
   "language": "python",
   "name": "python3"
  },
  "language_info": {
   "codemirror_mode": {
    "name": "ipython",
    "version": 3
   },
   "file_extension": ".py",
   "mimetype": "text/x-python",
   "name": "python",
   "nbconvert_exporter": "python",
   "pygments_lexer": "ipython3",
   "version": "3.6.1"
  }
 },
 "nbformat": 4,
 "nbformat_minor": 2
}
