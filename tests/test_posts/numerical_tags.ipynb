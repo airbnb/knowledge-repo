{
 "cells": [
  {
   "cell_type": "raw",
   "metadata": {},
   "source": [
    "---\n",
    "title: \"Numerical tags automatically get upgraded to strings!\"\n",
    "authors:\n",
    " - resident_father\n",
    "created_at: 2017-03-22 00:00:00\n",
    "updated_at: 2017-03-23 00:00:00\n",
    "tags:\n",
    " - 2017\n",
    " - awesome\n",
    "tldr: |\n",
    "    In the past, numerical tags not encapsulated in quotes broke the knowledge repository... but no longer!\n",
    "---"
   ]
  },
  {
   "cell_type": "markdown",
   "metadata": {},
   "source": [
    "There's nothing more to add!"
   ]
  }
 ],
 "metadata": {
  "kernelspec": {
   "display_name": "Python 3",
   "language": "python",
   "name": "python3"
  },
  "language_info": {
   "codemirror_mode": {
    "name": "ipython",
    "version": 3
   },
   "file_extension": ".py",
   "mimetype": "text/x-python",
   "name": "python",
   "nbconvert_exporter": "python",
   "pygments_lexer": "ipython3",
   "version": "3.6.2"
  }
 },
 "nbformat": 4,
 "nbformat_minor": 2
}
